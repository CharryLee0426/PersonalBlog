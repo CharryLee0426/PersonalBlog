{
 "cells": [
  {
   "attachments": {},
   "cell_type": "markdown",
   "metadata": {},
   "source": [
    "# LeNet-5"
   ]
  },
  {
   "attachments": {},
   "cell_type": "markdown",
   "metadata": {},
   "source": [
    "LeNet-5 is a very classical covolutional neural network for image classification task. It was proposed by Yann LeCun in 1998, and was used for handwritten digits recognition. "
   ]
  },
  {
   "attachments": {},
   "cell_type": "markdown",
   "metadata": {},
   "source": [
    "## Import the Dataset"
   ]
  },
  {
   "cell_type": "code",
   "execution_count": 1,
   "metadata": {},
   "outputs": [
    {
     "name": "stdout",
     "output_type": "stream",
     "text": [
      "The MNIST database has a training set of 60000 examples.\n",
      "The MNIST database has a test set of 10000 examples.\n"
     ]
    }
   ],
   "source": [
    "from keras.datasets import mnist\n",
    "\n",
    "# use Keras to import pre-shuffled MNIST database\n",
    "(X_train, y_train), (X_test, y_test) = mnist.load_data()\n",
    "\n",
    "print(\"The MNIST database has a training set of %d examples.\" % len(X_train))\n",
    "print(\"The MNIST database has a test set of %d examples.\" % len(X_test))"
   ]
  },
  {
   "cell_type": "code",
   "execution_count": 3,
   "metadata": {},
   "outputs": [
    {
     "name": "stdout",
     "output_type": "stream",
     "text": [
      "X_train shape: (60000, 28, 28)\n",
      "60000 train samples\n",
      "10000 test samples\n"
     ]
    }
   ],
   "source": [
    "import numpy as np\n",
    "\n",
    "# normalize the data to accelerate learning\n",
    "mean = np.mean(X_train)\n",
    "std = np.std(X_train)\n",
    "X_train = (X_train-mean)/(std+1e-7)\n",
    "X_test = (X_test-mean)/(std+1e-7)\n",
    "\n",
    "print('X_train shape:', X_train.shape)\n",
    "print(X_train.shape[0], 'train samples')\n",
    "print(X_test.shape[0], 'test samples')"
   ]
  },
  {
   "cell_type": "code",
   "execution_count": 4,
   "metadata": {},
   "outputs": [
    {
     "name": "stdout",
     "output_type": "stream",
     "text": [
      "Integer-valued labels:\n",
      "[5 0 4 1 9 2 1 3 1 4]\n",
      "One-hot labels:\n",
      "[[0. 0. 0. 0. 0. 1. 0. 0. 0. 0.]\n",
      " [1. 0. 0. 0. 0. 0. 0. 0. 0. 0.]\n",
      " [0. 0. 0. 0. 1. 0. 0. 0. 0. 0.]\n",
      " [0. 1. 0. 0. 0. 0. 0. 0. 0. 0.]\n",
      " [0. 0. 0. 0. 0. 0. 0. 0. 0. 1.]\n",
      " [0. 0. 1. 0. 0. 0. 0. 0. 0. 0.]\n",
      " [0. 1. 0. 0. 0. 0. 0. 0. 0. 0.]\n",
      " [0. 0. 0. 1. 0. 0. 0. 0. 0. 0.]\n",
      " [0. 1. 0. 0. 0. 0. 0. 0. 0. 0.]\n",
      " [0. 0. 0. 0. 1. 0. 0. 0. 0. 0.]]\n"
     ]
    }
   ],
   "source": [
    "# preprocess the one-hot labels\n",
    "from keras.utils import np_utils\n",
    "\n",
    "num_classes = 10 \n",
    "# print first ten (integer-valued) training labels\n",
    "print('Integer-valued labels:')\n",
    "print(y_train[:10])\n",
    "\n",
    "# one-hot encode the labels\n",
    "# convert class vectors to binary class matrices\n",
    "y_train = np_utils.to_categorical(y_train, num_classes)\n",
    "y_test = np_utils.to_categorical(y_test, num_classes)\n",
    "\n",
    "# print first ten (one-hot) training labels\n",
    "print('One-hot labels:')\n",
    "print(y_train[:10])"
   ]
  },
  {
   "cell_type": "code",
   "execution_count": 5,
   "metadata": {},
   "outputs": [
    {
     "name": "stdout",
     "output_type": "stream",
     "text": [
      "image input shape:  (28, 28, 1)\n",
      "x_train shape: (60000, 28, 28, 1)\n"
     ]
    }
   ],
   "source": [
    "# input image dimensions 28x28 pixel images. \n",
    "img_rows, img_cols = 28, 28\n",
    "\n",
    "X_train = X_train.reshape(X_train.shape[0], img_rows, img_cols, 1)\n",
    "X_test = X_test.reshape(X_test.shape[0], img_rows, img_cols, 1)\n",
    "input_shape = (img_rows, img_cols, 1)\n",
    "\n",
    "print('image input shape: ', input_shape)\n",
    "print('x_train shape:', X_train.shape)"
   ]
  },
  {
   "attachments": {},
   "cell_type": "markdown",
   "metadata": {},
   "source": [
    "## Define the Architecture"
   ]
  },
  {
   "cell_type": "code",
   "execution_count": 6,
   "metadata": {},
   "outputs": [
    {
     "name": "stdout",
     "output_type": "stream",
     "text": [
      "Metal device set to: Apple M1\n",
      "\n",
      "systemMemory: 16.00 GB\n",
      "maxCacheSize: 5.33 GB\n",
      "\n",
      "Model: \"sequential\"\n",
      "_________________________________________________________________\n",
      " Layer (type)                Output Shape              Param #   \n",
      "=================================================================\n",
      " conv2d (Conv2D)             (None, 28, 28, 6)         156       \n",
      "                                                                 \n",
      " average_pooling2d (AverageP  (None, 14, 14, 6)        0         \n",
      " ooling2D)                                                       \n",
      "                                                                 \n",
      " conv2d_1 (Conv2D)           (None, 10, 10, 16)        2416      \n",
      "                                                                 \n",
      " average_pooling2d_1 (Averag  (None, 5, 5, 16)         0         \n",
      " ePooling2D)                                                     \n",
      "                                                                 \n",
      " conv2d_2 (Conv2D)           (None, 1, 1, 120)         48120     \n",
      "                                                                 \n",
      " flatten (Flatten)           (None, 120)               0         \n",
      "                                                                 \n",
      " dense (Dense)               (None, 84)                10164     \n",
      "                                                                 \n",
      " dense_1 (Dense)             (None, 10)                850       \n",
      "                                                                 \n",
      "=================================================================\n",
      "Total params: 61,706\n",
      "Trainable params: 61,706\n",
      "Non-trainable params: 0\n",
      "_________________________________________________________________\n"
     ]
    }
   ],
   "source": [
    "from keras.models import Sequential\n",
    "from keras.layers import Conv2D, AveragePooling2D, Flatten, Dense\n",
    "\n",
    "#Instantiate an empty model\n",
    "model = Sequential()\n",
    "\n",
    "# C1 Convolutional Layer\n",
    "model.add(Conv2D(6, kernel_size=(5, 5), strides=(1, 1), activation='tanh', input_shape=input_shape, padding='same'))\n",
    "\n",
    "# S2 Pooling Layer\n",
    "model.add(AveragePooling2D(pool_size=(2, 2), strides=2, padding='valid'))\n",
    "\n",
    "# C3 Convolutional Layer\n",
    "model.add(Conv2D(16, kernel_size=(5, 5), strides=(1, 1), activation='tanh', padding='valid'))\n",
    "\n",
    "# S4 Pooling Layer\n",
    "model.add(AveragePooling2D(pool_size=(2, 2), strides=2, padding='valid'))\n",
    "\n",
    "# C5 Fully Connected Convolutional Layer\n",
    "model.add(Conv2D(120, kernel_size=(5, 5), strides=(1, 1), activation='tanh', padding='valid'))\n",
    "\n",
    "#Flatten the CNN output so that we can connect it with fully connected layers\n",
    "model.add(Flatten())\n",
    "\n",
    "# FC6 Fully Connected Layer\n",
    "model.add(Dense(84, activation='tanh'))\n",
    "\n",
    "# Output Layer with softmax activation\n",
    "model.add(Dense(10, activation='softmax'))\n",
    "\n",
    "# print the model summary\n",
    "model.summary()"
   ]
  },
  {
   "cell_type": "code",
   "execution_count": 7,
   "metadata": {},
   "outputs": [],
   "source": [
    "# the loss function is categorical cross entropy since we have multiple classes (10) \n",
    "\n",
    "\n",
    "# compile the model by defining the loss function, optimizer, and performance metric\n",
    "model.compile(loss='categorical_crossentropy', optimizer='adam', metrics=['accuracy'])"
   ]
  },
  {
   "cell_type": "code",
   "execution_count": 8,
   "metadata": {},
   "outputs": [
    {
     "name": "stdout",
     "output_type": "stream",
     "text": [
      "Epoch 1/20\n"
     ]
    },
    {
     "name": "stderr",
     "output_type": "stream",
     "text": [
      "2023-04-29 18:15:33.754915: W tensorflow/tsl/platform/profile_utils/cpu_utils.cc:128] Failed to get CPU frequency: 0 Hz\n"
     ]
    },
    {
     "name": "stdout",
     "output_type": "stream",
     "text": [
      "\n",
      "Epoch 1: val_loss improved from inf to 0.07572, saving model to model.lenet5.weights.best.hdf5\n",
      "1875/1875 - 23s - loss: 0.2046 - accuracy: 0.9404 - val_loss: 0.0757 - val_accuracy: 0.9770 - lr: 5.0000e-04 - 23s/epoch - 12ms/step\n",
      "Epoch 2/20\n",
      "\n",
      "Epoch 2: val_loss improved from 0.07572 to 0.05288, saving model to model.lenet5.weights.best.hdf5\n",
      "1875/1875 - 20s - loss: 0.0731 - accuracy: 0.9784 - val_loss: 0.0529 - val_accuracy: 0.9823 - lr: 5.0000e-04 - 20s/epoch - 10ms/step\n",
      "Epoch 3/20\n",
      "\n",
      "Epoch 3: val_loss improved from 0.05288 to 0.04717, saving model to model.lenet5.weights.best.hdf5\n",
      "1875/1875 - 19s - loss: 0.0540 - accuracy: 0.9835 - val_loss: 0.0472 - val_accuracy: 0.9836 - lr: 5.0000e-04 - 19s/epoch - 10ms/step\n",
      "Epoch 4/20\n",
      "\n",
      "Epoch 4: val_loss improved from 0.04717 to 0.03650, saving model to model.lenet5.weights.best.hdf5\n",
      "1875/1875 - 20s - loss: 0.0347 - accuracy: 0.9898 - val_loss: 0.0365 - val_accuracy: 0.9875 - lr: 2.0000e-04 - 20s/epoch - 10ms/step\n",
      "Epoch 5/20\n",
      "\n",
      "Epoch 5: val_loss improved from 0.03650 to 0.03168, saving model to model.lenet5.weights.best.hdf5\n",
      "1875/1875 - 19s - loss: 0.0300 - accuracy: 0.9912 - val_loss: 0.0317 - val_accuracy: 0.9894 - lr: 2.0000e-04 - 19s/epoch - 10ms/step\n",
      "Epoch 6/20\n",
      "\n",
      "Epoch 6: val_loss improved from 0.03168 to 0.02982, saving model to model.lenet5.weights.best.hdf5\n",
      "1875/1875 - 19s - loss: 0.0266 - accuracy: 0.9920 - val_loss: 0.0298 - val_accuracy: 0.9894 - lr: 2.0000e-04 - 19s/epoch - 10ms/step\n",
      "Epoch 7/20\n",
      "\n",
      "Epoch 7: val_loss improved from 0.02982 to 0.02712, saving model to model.lenet5.weights.best.hdf5\n",
      "1875/1875 - 20s - loss: 0.0195 - accuracy: 0.9949 - val_loss: 0.0271 - val_accuracy: 0.9906 - lr: 5.0000e-05 - 20s/epoch - 10ms/step\n",
      "Epoch 8/20\n",
      "\n",
      "Epoch 8: val_loss did not improve from 0.02712\n",
      "1875/1875 - 20s - loss: 0.0184 - accuracy: 0.9952 - val_loss: 0.0275 - val_accuracy: 0.9909 - lr: 5.0000e-05 - 20s/epoch - 10ms/step\n",
      "Epoch 9/20\n",
      "\n",
      "Epoch 9: val_loss did not improve from 0.02712\n",
      "1875/1875 - 19s - loss: 0.0174 - accuracy: 0.9956 - val_loss: 0.0272 - val_accuracy: 0.9906 - lr: 5.0000e-05 - 19s/epoch - 10ms/step\n",
      "Epoch 10/20\n",
      "\n",
      "Epoch 10: val_loss did not improve from 0.02712\n",
      "1875/1875 - 19s - loss: 0.0167 - accuracy: 0.9959 - val_loss: 0.0282 - val_accuracy: 0.9904 - lr: 5.0000e-05 - 19s/epoch - 10ms/step\n",
      "Epoch 11/20\n",
      "\n",
      "Epoch 11: val_loss improved from 0.02712 to 0.02655, saving model to model.lenet5.weights.best.hdf5\n",
      "1875/1875 - 19s - loss: 0.0150 - accuracy: 0.9963 - val_loss: 0.0265 - val_accuracy: 0.9911 - lr: 1.0000e-05 - 19s/epoch - 10ms/step\n",
      "Epoch 12/20\n",
      "\n",
      "Epoch 12: val_loss improved from 0.02655 to 0.02651, saving model to model.lenet5.weights.best.hdf5\n",
      "1875/1875 - 19s - loss: 0.0147 - accuracy: 0.9964 - val_loss: 0.0265 - val_accuracy: 0.9911 - lr: 1.0000e-05 - 19s/epoch - 10ms/step\n",
      "Epoch 13/20\n",
      "\n",
      "Epoch 13: val_loss did not improve from 0.02651\n",
      "1875/1875 - 19s - loss: 0.0145 - accuracy: 0.9966 - val_loss: 0.0266 - val_accuracy: 0.9909 - lr: 1.0000e-05 - 19s/epoch - 10ms/step\n",
      "Epoch 14/20\n",
      "\n",
      "Epoch 14: val_loss did not improve from 0.02651\n",
      "1875/1875 - 19s - loss: 0.0144 - accuracy: 0.9965 - val_loss: 0.0267 - val_accuracy: 0.9908 - lr: 1.0000e-05 - 19s/epoch - 10ms/step\n",
      "Epoch 15/20\n",
      "\n",
      "Epoch 15: val_loss improved from 0.02651 to 0.02645, saving model to model.lenet5.weights.best.hdf5\n",
      "1875/1875 - 20s - loss: 0.0142 - accuracy: 0.9966 - val_loss: 0.0265 - val_accuracy: 0.9911 - lr: 1.0000e-05 - 20s/epoch - 10ms/step\n",
      "Epoch 16/20\n",
      "\n",
      "Epoch 16: val_loss improved from 0.02645 to 0.02644, saving model to model.lenet5.weights.best.hdf5\n",
      "1875/1875 - 20s - loss: 0.0141 - accuracy: 0.9965 - val_loss: 0.0264 - val_accuracy: 0.9910 - lr: 1.0000e-05 - 20s/epoch - 11ms/step\n",
      "Epoch 17/20\n",
      "\n",
      "Epoch 17: val_loss did not improve from 0.02644\n",
      "1875/1875 - 19s - loss: 0.0139 - accuracy: 0.9967 - val_loss: 0.0265 - val_accuracy: 0.9908 - lr: 1.0000e-05 - 19s/epoch - 10ms/step\n",
      "Epoch 18/20\n",
      "\n",
      "Epoch 18: val_loss did not improve from 0.02644\n",
      "1875/1875 - 19s - loss: 0.0138 - accuracy: 0.9968 - val_loss: 0.0265 - val_accuracy: 0.9906 - lr: 1.0000e-05 - 19s/epoch - 10ms/step\n",
      "Epoch 19/20\n",
      "\n",
      "Epoch 19: val_loss improved from 0.02644 to 0.02637, saving model to model.lenet5.weights.best.hdf5\n",
      "1875/1875 - 19s - loss: 0.0136 - accuracy: 0.9969 - val_loss: 0.0264 - val_accuracy: 0.9908 - lr: 1.0000e-05 - 19s/epoch - 10ms/step\n",
      "Epoch 20/20\n",
      "\n",
      "Epoch 20: val_loss did not improve from 0.02637\n",
      "1875/1875 - 19s - loss: 0.0135 - accuracy: 0.9969 - val_loss: 0.0264 - val_accuracy: 0.9910 - lr: 1.0000e-05 - 19s/epoch - 10ms/step\n"
     ]
    }
   ],
   "source": [
    "from keras.callbacks import ModelCheckpoint, LearningRateScheduler\n",
    "\n",
    "# set the learning rate schedule as created in the original paper\n",
    "def lr_schedule(epoch):\n",
    "    if epoch <= 2:     \n",
    "        lr = 5e-4\n",
    "    elif epoch > 2 and epoch <= 5:\n",
    "        lr = 2e-4\n",
    "    elif epoch > 5 and epoch <= 9:\n",
    "        lr = 5e-5\n",
    "    else: \n",
    "        lr = 1e-5\n",
    "    return lr\n",
    "\n",
    "lr_scheduler = LearningRateScheduler(lr_schedule)\n",
    "\n",
    "# set the checkpointer\n",
    "checkpointer = ModelCheckpoint(filepath='model.lenet5.weights.best.hdf5', verbose=1, \n",
    "                               save_best_only=True)\n",
    "\n",
    "# train the model\n",
    "hist = model.fit(X_train, y_train, batch_size=32, epochs=20,\n",
    "          validation_data=(X_test, y_test), callbacks=[checkpointer, lr_scheduler], \n",
    "          verbose=2, shuffle=True)"
   ]
  },
  {
   "attachments": {},
   "cell_type": "markdown",
   "metadata": {},
   "source": [
    "## Load and Evaluate the Model"
   ]
  },
  {
   "cell_type": "code",
   "execution_count": 9,
   "metadata": {},
   "outputs": [],
   "source": [
    "# load the weights that yielded the best validation accuracy\n",
    "model.load_weights('model.lenet5.weights.best.hdf5')"
   ]
  },
  {
   "cell_type": "code",
   "execution_count": 10,
   "metadata": {},
   "outputs": [
    {
     "name": "stdout",
     "output_type": "stream",
     "text": [
      "Test accuracy: 99.0800%\n"
     ]
    }
   ],
   "source": [
    "# evaluate test accuracy\n",
    "score = model.evaluate(X_test, y_test, verbose=0)\n",
    "accuracy = 100*score[1]\n",
    "\n",
    "# print test accuracy\n",
    "print('Test accuracy: %.4f%%' % accuracy)"
   ]
  },
  {
   "cell_type": "code",
   "execution_count": 11,
   "metadata": {},
   "outputs": [
    {
     "data": {
      "image/png": "[encoded data removed]",
      "text/plain": [
       "<Figure size 640x480 with 1 Axes>"
      ]
     },
     "metadata": {},
     "output_type": "display_data"
    }
   ],
   "source": [
    "import matplotlib.pyplot as plt\n",
    "\n",
    "f, ax = plt.subplots()\n",
    "ax.plot([None] + hist.history['accuracy'], 'o-')\n",
    "ax.plot([None] + hist.history['val_accuracy'], 'x-')\n",
    "# Plot legend and use the best location automatically: loc = 0.\n",
    "ax.legend(['Train acc', 'Validation acc'], loc = 0)\n",
    "ax.set_title('Training/Validation acc per Epoch')\n",
    "ax.set_xlabel('Epoch')\n",
    "ax.set_ylabel('acc')\n",
    "plt.show()"
   ]
  },
  {
   "cell_type": "code",
   "execution_count": 12,
   "metadata": {},
   "outputs": [
    {
     "data": {
      "image/png": "[encoded data removed]",
      "text/plain": [
       "<Figure size 640x480 with 1 Axes>"
      ]
     },
     "metadata": {},
     "output_type": "display_data"
    }
   ],
   "source": [
    "import matplotlib.pyplot as plt\n",
    "\n",
    "f, ax = plt.subplots()\n",
    "ax.plot([None] + hist.history['loss'], 'o-')\n",
    "ax.plot([None] + hist.history['val_loss'], 'x-')\n",
    "\n",
    "# Plot legend and use the best location automatically: loc = 0.\n",
    "ax.legend(['Train loss', \"Val loss\"], loc = 0)\n",
    "ax.set_title('Training/Validation Loss per Epoch')\n",
    "ax.set_xlabel('Epoch')\n",
    "ax.set_ylabel('Loss')\n",
    "plt.show()"
   ]
  }
 ],
 "metadata": {
  "kernelspec": {
   "display_name": "MachineLearning",
   "language": "python",
   "name": "python3"
  },
  "language_info": {
   "codemirror_mode": {
    "name": "ipython",
    "version": 3
   },
   "file_extension": ".py",
   "mimetype": "text/x-python",
   "name": "python",
   "nbconvert_exporter": "python",
   "pygments_lexer": "ipython3",
   "version": "3.10.10"
  },
  "orig_nbformat": 4
 },
 "nbformat": 4,
 "nbformat_minor": 2
}
